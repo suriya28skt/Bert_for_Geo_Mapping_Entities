{
 "cells": [
  {
   "cell_type": "code",
   "execution_count": 1,
   "metadata": {},
   "outputs": [],
   "source": [
    "import numpy as np\n",
    "import sys\n",
    "import tensorflow\n",
    "# from bert_serving.client import BertClient\n",
    "import pandas as pd\n",
    "import os\n",
    "# bc = BertClient()"
   ]
  },
  {
   "cell_type": "markdown",
   "metadata": {},
   "source": [
    "### Getiing word embedding for wiki words with context"
   ]
  },
  {
   "cell_type": "code",
   "execution_count": 2,
   "metadata": {
    "scrolled": true
   },
   "outputs": [
    {
     "name": "stderr",
     "output_type": "stream",
     "text": [
      "C:\\Users\\ssund\\Anaconda3\\lib\\site-packages\\bert_serving\\client\\__init__.py:299: UserWarning: some of your sentences have more tokens than \"max_seq_len=25\" set on the server, as consequence you may get less-accurate or truncated embeddings.\n",
      "here is what you can do:\n",
      "- disable the length-check by create a new \"BertClient(check_length=False)\" when you do not want to display this warning\n",
      "- or, start a new server with a larger \"max_seq_len\"\n",
      "  '- or, start a new server with a larger \"max_seq_len\"' % self.length_limit)\n"
     ]
    },
    {
     "name": "stdout",
     "output_type": "stream",
     "text": [
      "                                                file_name     wiki_word index\n",
      "0       172244_172244_universitywire_bodypluralhumanit...    humanities    81\n",
      "1       172244_172244_universitywire_bodypluralhumanit...    journalism   455\n",
      "2       172244_172244_universitywire_bodypluralhumanit...    journalism   341\n",
      "3       172244_172244_universitywire_bodypluralhumanit...    journalism     7\n",
      "4       172244_172244_universitywire_bodypluralhumanit...    journalism   243\n",
      "5       172244_172244_universitywire_bodypluralhumanit...    journalism     7\n",
      "6       172244_172244_universitywire_bodypluralhumanit...    journalism     7\n",
      "7       172244_172244_universitywire_bodypluralhumanit...    journalism     7\n",
      "8       172244_172244_universitywire_bodypluralhumanit...    journalism   341\n",
      "9       172244_172244_universitywire_bodypluralhumanit...       tuition   365\n",
      "10      172244_172244_universitywire_bodypluralhumanit...    journalism   441\n",
      "11      172244_172244_universitywire_bodypluralhumanit...    journalism   341\n",
      "12      172244_172244_universitywire_bodypluralhumanit...    journalism   341\n",
      "13      172244_172244_universitywire_bodypluralhumanit...    journalism   341\n",
      "14      172244_172244_universitywire_bodypluralhumanit...        mantra   341\n",
      "15      172244_172244_universitywire_bodypluralhumanit...    accountant   341\n",
      "16      172244_172244_universitywire_bodypluralhumanit...    humanities    64\n",
      "17      172244_172244_universitywire_bodypluralhumanit...     dormitory   620\n",
      "18      172244_172244_universitywire_bodypluralhumanit...    humanities   341\n",
      "19      172244_172244_universitywire_bodypluralhumanit...         logic   225\n",
      "20      172244_172244_universitywire_bodypluralhumanit...     cafeteria     7\n",
      "21      172244_172244_universitywire_bodypluralhumanit...         bible    55\n",
      "22      172244_172244_universitywire_bodypluralhumanit...   mathematics   286\n",
      "23      172244_172244_universitywire_bodypluralhumanit...    humanities   647\n",
      "24      172244_172244_universitywire_bodypluralhumanit...    humanities   394\n",
      "25      172244_172244_universitywire_bodypluralhumanit...         bible    55\n",
      "26      172244_172244_universitywire_bodypluralhumanit...    humanities   327\n",
      "27      172244_172244_universitywire_bodypluralhumanit...   mathematics   294\n",
      "28      172244_172244_universitywire_bodypluralhumanit...      electron   225\n",
      "29      172244_172244_universitywire_bodypluralhumanit...    hypothesis   179\n",
      "...                                                   ...           ...   ...\n",
      "368345                                   zerohedge-97.txt      bullshit    81\n",
      "368346                                   zerohedge-97.txt       kolkata   225\n",
      "368347                                   zerohedge-97.txt  unemployment   651\n",
      "368348                                   zerohedge-97.txt   immigration   172\n",
      "368349                                   zerohedge-97.txt        violin   125\n",
      "368350                                   zerohedge-97.txt        violin   225\n",
      "368351                                   zerohedge-97.txt         plain   225\n",
      "368352                                   zerohedge-97.txt         plain   294\n",
      "368353                                   zerohedge-97.txt         plain   365\n",
      "368354                                   zerohedge-97.txt         plain   294\n",
      "368355                                   zerohedge-97.txt         angst   341\n",
      "368356                                   zerohedge-97.txt      facebook   341\n",
      "368357                                   zerohedge-97.txt        israel   205\n",
      "368358                                   zerohedge-98.txt          blog   225\n",
      "368359                                   zerohedge-98.txt          blog   341\n",
      "368360                                   zerohedge-98.txt       renting   650\n",
      "368361                                   zerohedge-98.txt          blog   179\n",
      "368362                                   zerohedge-98.txt      password   630\n",
      "368363                                   zerohedge-98.txt   mathematics   294\n",
      "368364                                   zerohedge-98.txt          blog   225\n",
      "368365                                   zerohedge-98.txt    humanities   341\n",
      "368366                                   zerohedge-98.txt    humanities    81\n",
      "368367                                   zerohedge-99.txt    capitalism   179\n",
      "368368                                   zerohedge-99.txt          blog   225\n",
      "368369                                   zerohedge-99.txt          blog   341\n",
      "368370                                   zerohedge-99.txt          blog   179\n",
      "368371                                   zerohedge-99.txt      password   630\n",
      "368372                                   zerohedge-99.txt        crises   225\n",
      "368373                                   zerohedge-99.txt        crises   225\n",
      "368374                                   zerohedge-99.txt          blog   225\n",
      "\n",
      "[368375 rows x 3 columns]\n"
     ]
    }
   ],
   "source": [
    "os.chdir(r'C:/Users/ssund/Documents/adm_project1/')\n",
    "out_df = pd.read_csv('C:/Users/ssund/Documents/adm_project1/sentence_output.txt', names = ['file_name','sentence','wiki_word'])\n",
    "fname_df = out_df['file_name']\n",
    "index_df = pd.DataFrame(columns = ['index'])\n",
    "word_df = out_df['wiki_word']\n",
    "fname_word_df = pd.concat([fname_df, word_df], axis = 1)\n",
    "for i in out_df['sentence']:\n",
    "    sentence = i\n",
    "    vec = bc.encode([str(sentence)])\n",
    "    index = vec.argmax()\n",
    "    index_df = index_df.append({'index':str(index)}, ignore_index = True)\n",
    "final_df = pd.concat([fname_word_df, index_df], axis=1)\n",
    "print(final_df)"
   ]
  },
  {
   "cell_type": "markdown",
   "metadata": {},
   "source": [
    "### Convert 'final_df' to text file"
   ]
  },
  {
   "cell_type": "code",
   "execution_count": 3,
   "metadata": {},
   "outputs": [],
   "source": [
    "np.savetxt(r'C:/Users/ssund/Documents/adm_project1/index_grouping_output.txt', final_df.values, fmt='%s, %s, %s')"
   ]
  }
 ],
 "metadata": {
  "kernelspec": {
   "display_name": "Python 3",
   "language": "python",
   "name": "python3"
  },
  "language_info": {
   "codemirror_mode": {
    "name": "ipython",
    "version": 3
   },
   "file_extension": ".py",
   "mimetype": "text/x-python",
   "name": "python",
   "nbconvert_exporter": "python",
   "pygments_lexer": "ipython3",
   "version": "3.7.3"
  }
 },
 "nbformat": 4,
 "nbformat_minor": 4
}
